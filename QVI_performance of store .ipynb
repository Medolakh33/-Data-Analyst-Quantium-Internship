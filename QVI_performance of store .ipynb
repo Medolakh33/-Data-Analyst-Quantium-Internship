{
 "cells": [
  {
   "cell_type": "code",
   "execution_count": 1,
   "metadata": {},
   "outputs": [],
   "source": [
    "import pandas as pd\n",
    "import numpy as np\n",
    "import seaborn as sns\n",
    "import matplotlib.pyplot as plt"
   ]
  },
  {
   "cell_type": "code",
   "execution_count": 2,
   "metadata": {},
   "outputs": [
    {
     "name": "stdout",
     "output_type": "stream",
     "text": [
      "Purchase Behaviour:\n",
      "   LYLTY_CARD_NBR               LIFESTAGE PREMIUM_CUSTOMER\n",
      "0            1000   YOUNG SINGLES/COUPLES          Premium\n",
      "1            1002   YOUNG SINGLES/COUPLES       Mainstream\n",
      "2            1003          YOUNG FAMILIES           Budget\n",
      "3            1004   OLDER SINGLES/COUPLES       Mainstream\n",
      "4            1005  MIDAGE SINGLES/COUPLES       Mainstream\n",
      "\n",
      "Transaction Data:\n",
      "    DATE  STORE_NBR  LYLTY_CARD_NBR  TXN_ID  PROD_NBR  \\\n",
      "0  43390          1            1000       1         5   \n",
      "1  43599          1            1307     348        66   \n",
      "2  43605          1            1343     383        61   \n",
      "3  43329          2            2373     974        69   \n",
      "4  43330          2            2426    1038       108   \n",
      "\n",
      "                                  PROD_NAME  PROD_QTY  TOT_SALES  \n",
      "0    Natural Chip        Compny SeaSalt175g         2        6.0  \n",
      "1                  CCs Nacho Cheese    175g         3        6.3  \n",
      "2    Smiths Crinkle Cut  Chips Chicken 170g         2        2.9  \n",
      "3    Smiths Chip Thinly  S/Cream&Onion 175g         5       15.0  \n",
      "4  Kettle Tortilla ChpsHny&Jlpno Chili 150g         3       13.8  \n",
      "\n",
      "Store Performance:\n",
      "   LYLTY_CARD_NBR        DATE  STORE_NBR  TXN_ID  PROD_NBR  \\\n",
      "0            1000  2018-10-17          1       1         5   \n",
      "1            1002  2018-09-16          1       2        58   \n",
      "2            1003  2019-03-07          1       3        52   \n",
      "3            1003  2019-03-08          1       4       106   \n",
      "4            1004  2018-11-02          1       5        96   \n",
      "\n",
      "                                PROD_NAME  PROD_QTY  TOT_SALES  PACK_SIZE  \\\n",
      "0  Natural Chip        Compny SeaSalt175g         2        6.0        175   \n",
      "1   Red Rock Deli Chikn&Garlic Aioli 150g         1        2.7        150   \n",
      "2   Grain Waves Sour    Cream&Chives 210G         1        3.6        210   \n",
      "3  Natural ChipCo      Hony Soy Chckn175g         1        3.0        175   \n",
      "4          WW Original Stacked Chips 160g         1        1.9        160   \n",
      "\n",
      "        BRAND              LIFESTAGE PREMIUM_CUSTOMER  \n",
      "0     NATURAL  YOUNG SINGLES/COUPLES          Premium  \n",
      "1         RRD  YOUNG SINGLES/COUPLES       Mainstream  \n",
      "2     GRNWVES         YOUNG FAMILIES           Budget  \n",
      "3     NATURAL         YOUNG FAMILIES           Budget  \n",
      "4  WOOLWORTHS  OLDER SINGLES/COUPLES       Mainstream  \n"
     ]
    }
   ],
   "source": [
    "# import our data\n",
    "\n",
    "# File paths\n",
    "D1 = \"QVI_purchase_behaviour.csv\"\n",
    "D2 = \"QVI_transaction_data.xlsx\"\n",
    "D3 = \"QVI_data.csv\"\n",
    "\n",
    "# Read data from CSV and Excel files\n",
    "purchase_behaviour = pd.read_csv(D1)\n",
    "transaction = pd.read_excel(D2)\n",
    "store_performance = pd.read_csv(D3)  \n",
    "\n",
    "# Print the data\n",
    "print(\"Purchase Behaviour:\")\n",
    "print(purchase_behaviour.head())\n",
    "\n",
    "print(\"\\nTransaction Data:\")\n",
    "print(transaction.head())\n",
    "\n",
    "print(\"\\nStore Performance:\")\n",
    "print(store_performance.head())\n"
   ]
  },
  {
   "cell_type": "code",
   "execution_count": 3,
   "metadata": {},
   "outputs": [
    {
     "data": {
      "text/plain": [
       "(LYLTY_CARD_NBR      0\n",
       " LIFESTAGE           0\n",
       " PREMIUM_CUSTOMER    0\n",
       " dtype: int64,\n",
       " DATE              0\n",
       " STORE_NBR         0\n",
       " LYLTY_CARD_NBR    0\n",
       " TXN_ID            0\n",
       " PROD_NBR          0\n",
       " PROD_NAME         0\n",
       " PROD_QTY          0\n",
       " TOT_SALES         0\n",
       " dtype: int64,\n",
       " LYLTY_CARD_NBR      0\n",
       " DATE                0\n",
       " STORE_NBR           0\n",
       " TXN_ID              0\n",
       " PROD_NBR            0\n",
       " PROD_NAME           0\n",
       " PROD_QTY            0\n",
       " TOT_SALES           0\n",
       " PACK_SIZE           0\n",
       " BRAND               0\n",
       " LIFESTAGE           0\n",
       " PREMIUM_CUSTOMER    0\n",
       " dtype: int64)"
      ]
     },
     "execution_count": 3,
     "metadata": {},
     "output_type": "execute_result"
    }
   ],
   "source": [
    "# Check for Missing Data\n",
    "missing_data_1 = purchase_behaviour.isnull().sum()\n",
    "missing_data_2 = transaction.isnull().sum()\n",
    "missing_data_3 = store_performance.isnull().sum()\n",
    "# Display  Missing Data\n",
    "missing_data_1,missing_data_2,missing_data_3"
   ]
  },
  {
   "cell_type": "code",
   "execution_count": null,
   "metadata": {},
   "outputs": [],
   "source": [
    "#merged dataset\n",
    "merged_data = pd.merge(purchase_behaviour, transaction, on='LYLTY_CARD_NBR', how='inner')\n",
    "\n",
    "# Remove duplicate entries\n",
    "merged_data.drop_duplicates(inplace=True)\n",
    "\n",
    "# Define the current order of columns\n",
    "current_columns_order = list(merged_data.columns)\n",
    "\n",
    "# Define the desired order of columns\n",
    "columns_order = ['DATE', 'LYLTY_CARD_NBR', 'STORE_NBR','PROD_NBR','TXN_ID','PREMIUM_CUSTOMER','LIFESTAGE','PROD_NAME','PROD_QTY','TOT_SALES']\n",
    "\n",
    "# Reorder the three specific columns\n",
    "qvi_data = merged_data.reindex(columns=columns_order)\n",
    "\n",
    "# Display the organized DataFrame\n",
    "print(qvi_data)\n",
    "qvi_data"
   ]
  },
  {
   "cell_type": "code",
   "execution_count": 5,
   "metadata": {},
   "outputs": [
    {
     "data": {
      "text/html": [
       "<div>\n",
       "<style scoped>\n",
       "    .dataframe tbody tr th:only-of-type {\n",
       "        vertical-align: middle;\n",
       "    }\n",
       "\n",
       "    .dataframe tbody tr th {\n",
       "        vertical-align: top;\n",
       "    }\n",
       "\n",
       "    .dataframe thead th {\n",
       "        text-align: right;\n",
       "    }\n",
       "</style>\n",
       "<table border=\"1\" class=\"dataframe\">\n",
       "  <thead>\n",
       "    <tr style=\"text-align: right;\">\n",
       "      <th></th>\n",
       "      <th>DATE</th>\n",
       "      <th>LYLTY_CARD_NBR</th>\n",
       "      <th>STORE_NBR</th>\n",
       "      <th>PROD_NBR</th>\n",
       "      <th>TXN_ID</th>\n",
       "      <th>PREMIUM_CUSTOMER</th>\n",
       "      <th>LIFESTAGE</th>\n",
       "      <th>PROD_NAME</th>\n",
       "      <th>PROD_QTY</th>\n",
       "      <th>TOT_SALES</th>\n",
       "    </tr>\n",
       "  </thead>\n",
       "  <tbody>\n",
       "    <tr>\n",
       "      <th>0</th>\n",
       "      <td>43390</td>\n",
       "      <td>1000</td>\n",
       "      <td>1</td>\n",
       "      <td>5</td>\n",
       "      <td>1</td>\n",
       "      <td>Premium</td>\n",
       "      <td>YOUNG SINGLES/COUPLES</td>\n",
       "      <td>Natural Chip        Compny SeaSalt175g</td>\n",
       "      <td>2</td>\n",
       "      <td>6.0</td>\n",
       "    </tr>\n",
       "    <tr>\n",
       "      <th>1</th>\n",
       "      <td>43359</td>\n",
       "      <td>1002</td>\n",
       "      <td>1</td>\n",
       "      <td>58</td>\n",
       "      <td>2</td>\n",
       "      <td>Mainstream</td>\n",
       "      <td>YOUNG SINGLES/COUPLES</td>\n",
       "      <td>Red Rock Deli Chikn&amp;Garlic Aioli 150g</td>\n",
       "      <td>1</td>\n",
       "      <td>2.7</td>\n",
       "    </tr>\n",
       "    <tr>\n",
       "      <th>2</th>\n",
       "      <td>43531</td>\n",
       "      <td>1003</td>\n",
       "      <td>1</td>\n",
       "      <td>52</td>\n",
       "      <td>3</td>\n",
       "      <td>Budget</td>\n",
       "      <td>YOUNG FAMILIES</td>\n",
       "      <td>Grain Waves Sour    Cream&amp;Chives 210G</td>\n",
       "      <td>1</td>\n",
       "      <td>3.6</td>\n",
       "    </tr>\n",
       "    <tr>\n",
       "      <th>3</th>\n",
       "      <td>43532</td>\n",
       "      <td>1003</td>\n",
       "      <td>1</td>\n",
       "      <td>106</td>\n",
       "      <td>4</td>\n",
       "      <td>Budget</td>\n",
       "      <td>YOUNG FAMILIES</td>\n",
       "      <td>Natural ChipCo      Hony Soy Chckn175g</td>\n",
       "      <td>1</td>\n",
       "      <td>3.0</td>\n",
       "    </tr>\n",
       "    <tr>\n",
       "      <th>4</th>\n",
       "      <td>43406</td>\n",
       "      <td>1004</td>\n",
       "      <td>1</td>\n",
       "      <td>96</td>\n",
       "      <td>5</td>\n",
       "      <td>Mainstream</td>\n",
       "      <td>OLDER SINGLES/COUPLES</td>\n",
       "      <td>WW Original Stacked Chips 160g</td>\n",
       "      <td>1</td>\n",
       "      <td>1.9</td>\n",
       "    </tr>\n",
       "  </tbody>\n",
       "</table>\n",
       "</div>"
      ],
      "text/plain": [
       "    DATE  LYLTY_CARD_NBR  STORE_NBR  PROD_NBR  TXN_ID PREMIUM_CUSTOMER  \\\n",
       "0  43390            1000          1         5       1          Premium   \n",
       "1  43359            1002          1        58       2       Mainstream   \n",
       "2  43531            1003          1        52       3           Budget   \n",
       "3  43532            1003          1       106       4           Budget   \n",
       "4  43406            1004          1        96       5       Mainstream   \n",
       "\n",
       "               LIFESTAGE                               PROD_NAME  PROD_QTY  \\\n",
       "0  YOUNG SINGLES/COUPLES  Natural Chip        Compny SeaSalt175g         2   \n",
       "1  YOUNG SINGLES/COUPLES   Red Rock Deli Chikn&Garlic Aioli 150g         1   \n",
       "2         YOUNG FAMILIES   Grain Waves Sour    Cream&Chives 210G         1   \n",
       "3         YOUNG FAMILIES  Natural ChipCo      Hony Soy Chckn175g         1   \n",
       "4  OLDER SINGLES/COUPLES          WW Original Stacked Chips 160g         1   \n",
       "\n",
       "   TOT_SALES  \n",
       "0        6.0  \n",
       "1        2.7  \n",
       "2        3.6  \n",
       "3        3.0  \n",
       "4        1.9  "
      ]
     },
     "execution_count": 5,
     "metadata": {},
     "output_type": "execute_result"
    }
   ],
   "source": [
    "qvi_data.head(5)"
   ]
  },
  {
   "cell_type": "code",
   "execution_count": 6,
   "metadata": {},
   "outputs": [
    {
     "data": {
      "text/html": [
       "<div>\n",
       "<style scoped>\n",
       "    .dataframe tbody tr th:only-of-type {\n",
       "        vertical-align: middle;\n",
       "    }\n",
       "\n",
       "    .dataframe tbody tr th {\n",
       "        vertical-align: top;\n",
       "    }\n",
       "\n",
       "    .dataframe thead th {\n",
       "        text-align: right;\n",
       "    }\n",
       "</style>\n",
       "<table border=\"1\" class=\"dataframe\">\n",
       "  <thead>\n",
       "    <tr style=\"text-align: right;\">\n",
       "      <th></th>\n",
       "      <th>LYLTY_CARD_NBR</th>\n",
       "      <th>DATE</th>\n",
       "      <th>STORE_NBR</th>\n",
       "      <th>TXN_ID</th>\n",
       "      <th>PROD_NBR</th>\n",
       "      <th>PROD_NAME</th>\n",
       "      <th>PROD_QTY</th>\n",
       "      <th>TOT_SALES</th>\n",
       "      <th>PACK_SIZE</th>\n",
       "      <th>BRAND</th>\n",
       "      <th>LIFESTAGE</th>\n",
       "      <th>PREMIUM_CUSTOMER</th>\n",
       "    </tr>\n",
       "  </thead>\n",
       "  <tbody>\n",
       "    <tr>\n",
       "      <th>0</th>\n",
       "      <td>1000</td>\n",
       "      <td>2018-10-17</td>\n",
       "      <td>1</td>\n",
       "      <td>1</td>\n",
       "      <td>5</td>\n",
       "      <td>Natural Chip        Compny SeaSalt175g</td>\n",
       "      <td>2</td>\n",
       "      <td>6.0</td>\n",
       "      <td>175</td>\n",
       "      <td>NATURAL</td>\n",
       "      <td>YOUNG SINGLES/COUPLES</td>\n",
       "      <td>Premium</td>\n",
       "    </tr>\n",
       "    <tr>\n",
       "      <th>1</th>\n",
       "      <td>1002</td>\n",
       "      <td>2018-09-16</td>\n",
       "      <td>1</td>\n",
       "      <td>2</td>\n",
       "      <td>58</td>\n",
       "      <td>Red Rock Deli Chikn&amp;Garlic Aioli 150g</td>\n",
       "      <td>1</td>\n",
       "      <td>2.7</td>\n",
       "      <td>150</td>\n",
       "      <td>RRD</td>\n",
       "      <td>YOUNG SINGLES/COUPLES</td>\n",
       "      <td>Mainstream</td>\n",
       "    </tr>\n",
       "    <tr>\n",
       "      <th>2</th>\n",
       "      <td>1003</td>\n",
       "      <td>2019-03-07</td>\n",
       "      <td>1</td>\n",
       "      <td>3</td>\n",
       "      <td>52</td>\n",
       "      <td>Grain Waves Sour    Cream&amp;Chives 210G</td>\n",
       "      <td>1</td>\n",
       "      <td>3.6</td>\n",
       "      <td>210</td>\n",
       "      <td>GRNWVES</td>\n",
       "      <td>YOUNG FAMILIES</td>\n",
       "      <td>Budget</td>\n",
       "    </tr>\n",
       "    <tr>\n",
       "      <th>3</th>\n",
       "      <td>1003</td>\n",
       "      <td>2019-03-08</td>\n",
       "      <td>1</td>\n",
       "      <td>4</td>\n",
       "      <td>106</td>\n",
       "      <td>Natural ChipCo      Hony Soy Chckn175g</td>\n",
       "      <td>1</td>\n",
       "      <td>3.0</td>\n",
       "      <td>175</td>\n",
       "      <td>NATURAL</td>\n",
       "      <td>YOUNG FAMILIES</td>\n",
       "      <td>Budget</td>\n",
       "    </tr>\n",
       "    <tr>\n",
       "      <th>4</th>\n",
       "      <td>1004</td>\n",
       "      <td>2018-11-02</td>\n",
       "      <td>1</td>\n",
       "      <td>5</td>\n",
       "      <td>96</td>\n",
       "      <td>WW Original Stacked Chips 160g</td>\n",
       "      <td>1</td>\n",
       "      <td>1.9</td>\n",
       "      <td>160</td>\n",
       "      <td>WOOLWORTHS</td>\n",
       "      <td>OLDER SINGLES/COUPLES</td>\n",
       "      <td>Mainstream</td>\n",
       "    </tr>\n",
       "  </tbody>\n",
       "</table>\n",
       "</div>"
      ],
      "text/plain": [
       "   LYLTY_CARD_NBR        DATE  STORE_NBR  TXN_ID  PROD_NBR  \\\n",
       "0            1000  2018-10-17          1       1         5   \n",
       "1            1002  2018-09-16          1       2        58   \n",
       "2            1003  2019-03-07          1       3        52   \n",
       "3            1003  2019-03-08          1       4       106   \n",
       "4            1004  2018-11-02          1       5        96   \n",
       "\n",
       "                                PROD_NAME  PROD_QTY  TOT_SALES  PACK_SIZE  \\\n",
       "0  Natural Chip        Compny SeaSalt175g         2        6.0        175   \n",
       "1   Red Rock Deli Chikn&Garlic Aioli 150g         1        2.7        150   \n",
       "2   Grain Waves Sour    Cream&Chives 210G         1        3.6        210   \n",
       "3  Natural ChipCo      Hony Soy Chckn175g         1        3.0        175   \n",
       "4          WW Original Stacked Chips 160g         1        1.9        160   \n",
       "\n",
       "        BRAND              LIFESTAGE PREMIUM_CUSTOMER  \n",
       "0     NATURAL  YOUNG SINGLES/COUPLES          Premium  \n",
       "1         RRD  YOUNG SINGLES/COUPLES       Mainstream  \n",
       "2     GRNWVES         YOUNG FAMILIES           Budget  \n",
       "3     NATURAL         YOUNG FAMILIES           Budget  \n",
       "4  WOOLWORTHS  OLDER SINGLES/COUPLES       Mainstream  "
      ]
     },
     "execution_count": 6,
     "metadata": {},
     "output_type": "execute_result"
    }
   ],
   "source": [
    "store_performance.head(5)"
   ]
  },
  {
   "cell_type": "code",
   "execution_count": 7,
   "metadata": {},
   "outputs": [],
   "source": [
    "# Convert 'DATE' column to datetime format\n",
    "qvi_data['DATE'] = pd.to_datetime(qvi_data['DATE'], origin='1900-01-01', unit='D')"
   ]
  },
  {
   "cell_type": "code",
   "execution_count": 8,
   "metadata": {},
   "outputs": [],
   "source": [
    "# Convert 'DATE' column to datetime format with custom format string\n",
    "store_performance['DATE'] = pd.to_datetime(store_performance['DATE'], format='%Y-%m-%d')"
   ]
  },
  {
   "cell_type": "markdown",
   "metadata": {},
   "source": [
    "# Analysis"
   ]
  },
  {
   "cell_type": "code",
   "execution_count": 22,
   "metadata": {},
   "outputs": [
    {
     "name": "stdout",
     "output_type": "stream",
     "text": [
      "Staring Date for qvi_data: 2018-07-01 00:00:00\n",
      "Ending Date for qvi_data: 2019-06-30 00:00:00\n",
      "Staring Date for store_performance: 2018-07-01 00:00:00\n",
      "Ending Date for store_performance: 2019-06-30 00:00:00\n"
     ]
    }
   ],
   "source": [
    "# Find the minimum and maximum dates for our Previous data\n",
    "min_date = qvi_data['DATE'].min()\n",
    "max_date = qvi_data['DATE'].max()\n",
    "\n",
    "min_date = store_performance['DATE'].min()\n",
    "max_date = store_performance['DATE'].max()\n",
    "\n",
    "\n",
    "# Print the range of time\n",
    "\n",
    "print(\"Staring Date for qvi_data:\", min_date)\n",
    "print(\"Ending Date for qvi_data:\", max_date)\n",
    "print(\"Staring Date for store_performance:\", min_date)\n",
    "print(\"Ending Date for store_performance:\", max_date)\n"
   ]
  },
  {
   "cell_type": "code",
   "execution_count": 11,
   "metadata": {},
   "outputs": [
    {
     "name": "stdout",
     "output_type": "stream",
     "text": [
      "Total Sales Revenue: 1933114.9999999998\n"
     ]
    }
   ],
   "source": [
    "# Calculate total sales revenue\n",
    "total_sales_revenue = store_performance['TOT_SALES'].sum()\n",
    "# Print the total sales revenue\n",
    "print(\"Total Sales Revenue:\", total_sales_revenue)"
   ]
  },
  {
   "cell_type": "code",
   "execution_count": 12,
   "metadata": {},
   "outputs": [
    {
     "data": {
      "image/png": "[encoded data removed]",
      "text/plain": [
       "<Figure size 1200x300 with 1 Axes>"
      ]
     },
     "metadata": {},
     "output_type": "display_data"
    },
    {
     "data": {
      "image/png": "[encoded data removed]",
      "text/plain": [
       "<Figure size 1200x300 with 1 Axes>"
      ]
     },
     "metadata": {},
     "output_type": "display_data"
    }
   ],
   "source": [
    "# Analysis Monthly Total Sales Between 2018-07 / 2019-07\n",
    "store_performance['month'] = store_performance['DATE'].dt.month\n",
    "monthly_sales = store_performance.groupby('month')['TOT_SALES'].sum()\n",
    "plt.figure(figsize=(12, 3))\n",
    "sns.lineplot(x=monthly_sales.index, y=monthly_sales.values, marker='o')\n",
    "plt.title('Monthly Total Sales')\n",
    "plt.xlabel('2018-07 / 2019-07')\n",
    "plt.ylabel('Total Sales')\n",
    "plt.grid(True)\n",
    "plt.show()\n",
    "\n",
    "# Analysis Monthly Total Sales Between 2018-07 / 2019-06\n",
    "qvi_data['month'] = qvi_data['DATE'].dt.month\n",
    "monthly_sales = qvi_data.groupby('month')['TOT_SALES'].sum()\n",
    "plt.figure(figsize=(12, 3))\n",
    "sns.lineplot(x=monthly_sales.index, y=monthly_sales.values, marker='o')\n",
    "plt.title('Monthly Total Sales')\n",
    "plt.xlabel('2018-07 / 2019-06')\n",
    "plt.ylabel('Total Sales')\n",
    "plt.grid(True)\n",
    "plt.show()"
   ]
  },
  {
   "cell_type": "code",
   "execution_count": 13,
   "metadata": {},
   "outputs": [
    {
     "name": "stdout",
     "output_type": "stream",
     "text": [
      "Total Number of Customers: 72636\n"
     ]
    }
   ],
   "source": [
    "# Calculate total number of customers\n",
    "total_customers = store_performance['LYLTY_CARD_NBR'].nunique()\n",
    "\n",
    "# Print\n",
    "print(\"Total Number of Customers:\", total_customers)"
   ]
  },
  {
   "cell_type": "code",
   "execution_count": 14,
   "metadata": {},
   "outputs": [
    {
     "name": "stdout",
     "output_type": "stream",
     "text": [
      "Average number of transactions per customer: 3.646043284321824\n"
     ]
    }
   ],
   "source": [
    "# number of transactions\n",
    "total_transactions = len(store_performance)\n",
    "\n",
    "# number of customers\n",
    "total_customers = store_performance['LYLTY_CARD_NBR'].nunique()\n",
    "\n",
    "# number of transactions per customer\n",
    "average_transactions_per_customer = total_transactions / total_customers\n",
    "\n",
    "# Print\n",
    "print(\"Average number of transactions per customer:\", average_transactions_per_customer)\n"
   ]
  },
  {
   "cell_type": "code",
   "execution_count": 15,
   "metadata": {},
   "outputs": [
    {
     "name": "stdout",
     "output_type": "stream",
     "text": [
      "Average number of transactions per customer: 3.6225425408888157\n"
     ]
    }
   ],
   "source": [
    "## verage number of transactions per customer\n",
    "# Calculate the number of transactions per customer\n",
    "transactions_per_customer = store_performance.groupby('LYLTY_CARD_NBR')['TXN_ID'].nunique()\n",
    "\n",
    "# Calculate the average number of transactions per customer\n",
    "average_transactions_per_customer = transactions_per_customer.mean()\n",
    "\n",
    "# Print the average number of transactions per customer\n",
    "print(\"Average number of transactions per customer:\", average_transactions_per_customer)\n"
   ]
  },
  {
   "cell_type": "code",
   "execution_count": 16,
   "metadata": {},
   "outputs": [
    {
     "name": "stdout",
     "output_type": "stream",
     "text": [
      "Trial Store 77:\n",
      "Total Sales: 3040.0\n",
      "Total Sales of Control Stores: 26968.6\n",
      "Percentage Difference: -88.73%\n",
      "\n",
      "Trial Store 86:\n",
      "Total Sales: 10635.35\n",
      "Total Sales of Control Stores: 19373.25\n",
      "Percentage Difference: -45.10%\n",
      "\n",
      "Trial Store 88:\n",
      "Total Sales: 16333.25\n",
      "Total Sales of Control Stores: 13675.35\n",
      "Percentage Difference: 19.44%\n",
      "\n"
     ]
    }
   ],
   "source": [
    "sales_data = store_performance\n",
    "\n",
    "# Define control store numbers\n",
    "trial_stores = [77, 86, 88]\n",
    "control_stores = {77: [86, 88], 86: [77, 88], 88: [77, 86]}\n",
    "\n",
    "# Calculate total sales for trial and control stores\n",
    "trial_sales = {}\n",
    "control_sales = {}\n",
    "\n",
    "for trial_store in trial_stores:\n",
    "    trial_sales[trial_store] = sales_data[sales_data['STORE_NBR'] == trial_store]['TOT_SALES'].sum()\n",
    "    control_sales[trial_store] = sum(sales_data[sales_data['STORE_NBR'] == control_store]['TOT_SALES'].sum() \n",
    "                                     for control_store in control_stores[trial_store])\n",
    "\n",
    "\n",
    "for trial_store in trial_stores:\n",
    "    print(f\"Trial Store {trial_store}:\")\n",
    "    print(f\"Total Sales: {trial_sales[trial_store]}\")\n",
    "    print(f\"Total Sales of Control Stores: {control_sales[trial_store]}\")\n",
    "    print(f\"Percentage Difference: {100 * (trial_sales[trial_store] - control_sales[trial_store]) / control_sales[trial_store]:.2f}%\\n\")\n"
   ]
  },
  {
   "cell_type": "code",
   "execution_count": 23,
   "metadata": {},
   "outputs": [
    {
     "data": {
      "image/png": "[encoded data removed]",
      "text/plain": [
       "<Figure size 1000x400 with 1 Axes>"
      ]
     },
     "metadata": {},
     "output_type": "display_data"
    }
   ],
   "source": [
    "sales_data = store_performance\n",
    "\n",
    "# Df control store numbers\n",
    "trial_stores = [77, 86, 88]\n",
    "control_stores = {77: [86, 88], 86: [77, 88], 88: [77, 86]}\n",
    "\n",
    "# Calculate total sales for trial and control stores\n",
    "trial_sales = {}\n",
    "control_sales = {}\n",
    "\n",
    "for trial_store in trial_stores:\n",
    "    trial_sales[trial_store] = sales_data[sales_data['STORE_NBR'] == trial_store]['TOT_SALES'].sum()\n",
    "    control_sales[trial_store] = sum(sales_data[sales_data['STORE_NBR'] == control_store]['TOT_SALES'].sum() \n",
    "                                     for control_store in control_stores[trial_store])\n",
    "\n",
    "# DataFrame for visualization\n",
    "data = pd.DataFrame({\n",
    "    'Store Number': trial_stores,\n",
    "    'Trial Store Sales': list(trial_sales.values()),\n",
    "    'Control Store Sales': list(control_sales.values())\n",
    "})\n",
    "\n",
    "# DataFrame to long format for seaborn\n",
    "data_melted = data.melt(id_vars='Store Number', var_name='Store Type', value_name='Total Sales')\n",
    "\n",
    "# Create visualization\n",
    "plt.figure(figsize=(10, 4))\n",
    "sns.barplot(data=data_melted, x='Store Number', y='Total Sales', hue='Store Type', palette='pastel')\n",
    "plt.xlabel('Store Number')\n",
    "plt.ylabel('Total Sales')\n",
    "plt.title('Total Sales Comparison of Trial and Control Stores\\n 77, 86, 88')\n",
    "plt.legend(title='Store Type')\n",
    "plt.grid(axis='y', linestyle='--', alpha=0.7)\n",
    "plt.show()\n"
   ]
  },
  {
   "cell_type": "code",
   "execution_count": 25,
   "metadata": {},
   "outputs": [
    {
     "name": "stdout",
     "output_type": "stream",
     "text": [
      "Trial Store: Trial_Store_77\n",
      "Metrics Before Trial Period:\n",
      "Total Customers: 215\n",
      "Total Sales: 1494.6\n",
      "Avg. Transaction Value: 5.376258992805755\n",
      "\n",
      "Trial Store: Trial_Store_86\n",
      "Metrics Before Trial Period:\n",
      "Total Customers: 254\n",
      "Total Sales: 6119.85\n",
      "Avg. Transaction Value: 6.938605442176871\n",
      "\n",
      "Trial Store: Trial_Store_88\n",
      "Metrics Before Trial Period:\n",
      "Total Customers: 382\n",
      "Total Sales: 10753.8\n",
      "Avg. Transaction Value: 8.700485436893203\n",
      "\n",
      "Trial Store: Trial_Store_77\n",
      "Metrics After Trial Period:\n",
      "Total Customers: 220\n",
      "Total Sales: 1545.4\n",
      "Avg. Transaction Value: 5.422456140350877\n",
      "\n",
      "Trial Store: Trial_Store_86\n",
      "Metrics After Trial Period:\n",
      "Total Customers: 249\n",
      "Total Sales: 4515.5\n",
      "Avg. Transaction Value: 6.883384146341464\n",
      "\n",
      "Trial Store: Trial_Store_88\n",
      "Metrics After Trial Period:\n",
      "Total Customers: 292\n",
      "Total Sales: 5579.450000000001\n",
      "Avg. Transaction Value: 8.758948194662482\n",
      "\n"
     ]
    }
   ],
   "source": [
    "customer_purchases_ = store_performance\n",
    "\n",
    "# Df trial period for each trial store\n",
    "trial_period = {'Trial_Store_77': ('2019-01-01', '2019-06-30'),\n",
    "                'Trial_Store_86': ('2019-02-01', '2019-07-31'),\n",
    "                'Trial_Store_88': ('2019-03-01', '2019-08-31')}\n",
    "\n",
    "# Calculate total number of customers, total sales, and average transaction value for each period\n",
    "metrics_before = {}\n",
    "metrics_after = {}\n",
    "\n",
    "for store, period in trial_period.items():\n",
    "    before_trial_data = customer_purchases_[(customer_purchases_['STORE_NBR'] == int(store.split('_')[-1])) & \n",
    "                                   (customer_purchases_['DATE'] < period[0])]\n",
    "    after_trial_data = customer_purchases_[(customer_purchases_['STORE_NBR'] == int(store.split('_')[-1])) & \n",
    "                                  (customer_purchases_['DATE'] >= period[0]) & (customer_purchases_['DATE'] <= period[1])]\n",
    "    \n",
    "    # Calculate metrics for before trial period\n",
    "    total_customers_before = before_trial_data['LYLTY_CARD_NBR'].nunique()\n",
    "    total_sales_before = before_trial_data['TOT_SALES'].sum()\n",
    "    avg_transaction_value_before = total_sales_before / len(before_trial_data)\n",
    "    \n",
    "    # Calculate metrics for after trial period\n",
    "    total_customers_after = after_trial_data['LYLTY_CARD_NBR'].nunique()\n",
    "    total_sales_after = after_trial_data['TOT_SALES'].sum()\n",
    "    avg_transaction_value_after = total_sales_after / len(after_trial_data)\n",
    "    \n",
    "    # Store metrics in dictionaries\n",
    "    metrics_before[store] = {\n",
    "        'Total_Customers': total_customers_before,\n",
    "        'Total_Sales': total_sales_before,\n",
    "        'Avg_Transaction_Value': avg_transaction_value_before\n",
    "    }\n",
    "    \n",
    "    metrics_after[store] = {\n",
    "        'Total_Customers': total_customers_after,\n",
    "        'Total_Sales': total_sales_after,\n",
    "        'Avg_Transaction_Value': avg_transaction_value_after\n",
    "    }\n",
    "\n",
    "# Print the metrics before and after the trial period\n",
    "for store, metrics in metrics_before.items():\n",
    "    print(f\"Trial Store: {store}\")\n",
    "    print(\"Metrics Before Trial Period:\")\n",
    "    print(f\"Total Customers: {metrics['Total_Customers']}\")\n",
    "    print(f\"Total Sales: {metrics['Total_Sales']}\")\n",
    "    print(f\"Avg. Transaction Value: {metrics['Avg_Transaction_Value']}\\n\")\n",
    "\n",
    "for store, metrics in metrics_after.items():\n",
    "    print(f\"Trial Store: {store}\")\n",
    "    print(\"Metrics After Trial Period:\")\n",
    "    print(f\"Total Customers: {metrics['Total_Customers']}\")\n",
    "    print(f\"Total Sales: {metrics['Total_Sales']}\")\n",
    "    print(f\"Avg. Transaction Value: {metrics['Avg_Transaction_Value']}\\n\")\n"
   ]
  },
  {
   "cell_type": "code",
   "execution_count": 26,
   "metadata": {},
   "outputs": [
    {
     "data": {
      "application/vnd.plotly.v1+json": {
       "config": {
        "plotlyServerURL": "https://plot.ly"
       },
       "data": [
        {
         "alignmentgroup": "True",
         "hovertemplate": "Period=Before<br>Store=Trial_Store_77<br>Metric=%{x}<br>Metric Value=%{y}<extra></extra>",
         "legendgroup": "Before",
         "marker": {
          "color": "#636efa",
          "pattern": {
           "shape": ""
          }
         },
         "name": "Before",
         "offsetgroup": "Before",
         "orientation": "v",
         "showlegend": true,
         "textposition": "auto",
         "type": "bar",
         "x": [
          "Total Customers",
          "Total Sales",
          "Avg. Transaction Value"
         ],
         "xaxis": "x",
         "y": [
          215,
          1494.6,
          5.376258992805755
         ],
         "yaxis": "y"
        },
        {
         "alignmentgroup": "True",
         "hovertemplate": "Period=Before<br>Store=Trial_Store_86<br>Metric=%{x}<br>Metric Value=%{y}<extra></extra>",
         "legendgroup": "Before",
         "marker": {
          "color": "#636efa",
          "pattern": {
           "shape": ""
          }
         },
         "name": "Before",
         "offsetgroup": "Before",
         "orientation": "v",
         "showlegend": false,
         "textposition": "auto",
         "type": "bar",
         "x": [
          "Total Customers",
          "Total Sales",
          "Avg. Transaction Value"
         ],
         "xaxis": "x2",
         "y": [
          254,
          6119.85,
          6.938605442176871
         ],
         "yaxis": "y2"
        },
        {
         "alignmentgroup": "True",
         "hovertemplate": "Period=Before<br>Store=Trial_Store_88<br>Metric=%{x}<br>Metric Value=%{y}<extra></extra>",
         "legendgroup": "Before",
         "marker": {
          "color": "#636efa",
          "pattern": {
           "shape": ""
          }
         },
         "name": "Before",
         "offsetgroup": "Before",
         "orientation": "v",
         "showlegend": false,
         "textposition": "auto",
         "type": "bar",
         "x": [
          "Total Customers",
          "Total Sales",
          "Avg. Transaction Value"
         ],
         "xaxis": "x3",
         "y": [
          382,
          10753.8,
          8.700485436893203
         ],
         "yaxis": "y3"
        },
        {
         "alignmentgroup": "True",
         "hovertemplate": "Period=After<br>Store=Trial_Store_77<br>Metric=%{x}<br>Metric Value=%{y}<extra></extra>",
         "legendgroup": "After",
         "marker": {
          "color": "#EF553B",
          "pattern": {
           "shape": ""
          }
         },
         "name": "After",
         "offsetgroup": "After",
         "orientation": "v",
         "showlegend": true,
         "textposition": "auto",
         "type": "bar",
         "x": [
          "Total Customers",
          "Total Sales",
          "Avg. Transaction Value"
         ],
         "xaxis": "x",
         "y": [
          220,
          1545.4,
          5.422456140350877
         ],
         "yaxis": "y"
        },
        {
         "alignmentgroup": "True",
         "hovertemplate": "Period=After<br>Store=Trial_Store_86<br>Metric=%{x}<br>Metric Value=%{y}<extra></extra>",
         "legendgroup": "After",
         "marker": {
          "color": "#EF553B",
          "pattern": {
           "shape": ""
          }
         },
         "name": "After",
         "offsetgroup": "After",
         "orientation": "v",
         "showlegend": false,
         "textposition": "auto",
         "type": "bar",
         "x": [
          "Total Customers",
          "Total Sales",
          "Avg. Transaction Value"
         ],
         "xaxis": "x2",
         "y": [
          249,
          4515.5,
          6.883384146341464
         ],
         "yaxis": "y2"
        },
        {
         "alignmentgroup": "True",
         "hovertemplate": "Period=After<br>Store=Trial_Store_88<br>Metric=%{x}<br>Metric Value=%{y}<extra></extra>",
         "legendgroup": "After",
         "marker": {
          "color": "#EF553B",
          "pattern": {
           "shape": ""
          }
         },
         "name": "After",
         "offsetgroup": "After",
         "orientation": "v",
         "showlegend": false,
         "textposition": "auto",
         "type": "bar",
         "x": [
          "Total Customers",
          "Total Sales",
          "Avg. Transaction Value"
         ],
         "xaxis": "x3",
         "y": [
          292,
          5579.450000000001,
          8.758948194662482
         ],
         "yaxis": "y3"
        }
       ],
       "layout": {
        "annotations": [
         {
          "font": {},
          "showarrow": false,
          "text": "Store=Trial_Store_77",
          "x": 0.15999999999999998,
          "xanchor": "center",
          "xref": "paper",
          "y": 1,
          "yanchor": "bottom",
          "yref": "paper"
         },
         {
          "font": {},
          "showarrow": false,
          "text": "Store=Trial_Store_86",
          "x": 0.49999999999999994,
          "xanchor": "center",
          "xref": "paper",
          "y": 1,
          "yanchor": "bottom",
          "yref": "paper"
         },
         {
          "font": {},
          "showarrow": false,
          "text": "Store=Trial_Store_88",
          "x": 0.8399999999999999,
          "xanchor": "center",
          "xref": "paper",
          "y": 1,
          "yanchor": "bottom",
          "yref": "paper"
         }
        ],
        "barmode": "group",
        "height": 600,
        "legend": {
         "title": {
          "text": "Period"
         },
         "tracegroupgap": 0
        },
        "margin": {
         "t": 60
        },
        "template": {
         "data": {
          "bar": [
           {
            "error_x": {
             "color": "#2a3f5f"
            },
            "error_y": {
             "color": "#2a3f5f"
            },
            "marker": {
             "line": {
              "color": "#E5ECF6",
              "width": 0.5
             },
             "pattern": {
              "fillmode": "overlay",
              "size": 10,
              "solidity": 0.2
             }
            },
            "type": "bar"
           }
          ],
          "barpolar": [
           {
            "marker": {
             "line": {
              "color": "#E5ECF6",
              "width": 0.5
             },
             "pattern": {
              "fillmode": "overlay",
              "size": 10,
              "solidity": 0.2
             }
            },
            "type": "barpolar"
           }
          ],
          "carpet": [
           {
            "aaxis": {
             "endlinecolor": "#2a3f5f",
             "gridcolor": "white",
             "linecolor": "white",
             "minorgridcolor": "white",
             "startlinecolor": "#2a3f5f"
            },
            "baxis": {
             "endlinecolor": "#2a3f5f",
             "gridcolor": "white",
             "linecolor": "white",
             "minorgridcolor": "white",
             "startlinecolor": "#2a3f5f"
            },
            "type": "carpet"
           }
          ],
          "choropleth": [
           {
            "colorbar": {
             "outlinewidth": 0,
             "ticks": ""
            },
            "type": "choropleth"
           }
          ],
          "contour": [
           {
            "colorbar": {
             "outlinewidth": 0,
             "ticks": ""
            },
            "colorscale": [
             [
              0,
              "#0d0887"
             ],
             [
              0.1111111111111111,
              "#46039f"
             ],
             [
              0.2222222222222222,
              "#7201a8"
             ],
             [
              0.3333333333333333,
              "#9c179e"
             ],
             [
              0.4444444444444444,
              "#bd3786"
             ],
             [
              0.5555555555555556,
              "#d8576b"
             ],
             [
              0.6666666666666666,
              "#ed7953"
             ],
             [
              0.7777777777777778,
              "#fb9f3a"
             ],
             [
              0.8888888888888888,
              "#fdca26"
             ],
             [
              1,
              "#f0f921"
             ]
            ],
            "type": "contour"
           }
          ],
          "contourcarpet": [
           {
            "colorbar": {
             "outlinewidth": 0,
             "ticks": ""
            },
            "type": "contourcarpet"
           }
          ],
          "heatmap": [
           {
            "colorbar": {
             "outlinewidth": 0,
             "ticks": ""
            },
            "colorscale": [
             [
              0,
              "#0d0887"
             ],
             [
              0.1111111111111111,
              "#46039f"
             ],
             [
              0.2222222222222222,
              "#7201a8"
             ],
             [
              0.3333333333333333,
              "#9c179e"
             ],
             [
              0.4444444444444444,
              "#bd3786"
             ],
             [
              0.5555555555555556,
              "#d8576b"
             ],
             [
              0.6666666666666666,
              "#ed7953"
             ],
             [
              0.7777777777777778,
              "#fb9f3a"
             ],
             [
              0.8888888888888888,
              "#fdca26"
             ],
             [
              1,
              "#f0f921"
             ]
            ],
            "type": "heatmap"
           }
          ],
          "heatmapgl": [
           {
            "colorbar": {
             "outlinewidth": 0,
             "ticks": ""
            },
            "colorscale": [
             [
              0,
              "#0d0887"
             ],
             [
              0.1111111111111111,
              "#46039f"
             ],
             [
              0.2222222222222222,
              "#7201a8"
             ],
             [
              0.3333333333333333,
              "#9c179e"
             ],
             [
              0.4444444444444444,
              "#bd3786"
             ],
             [
              0.5555555555555556,
              "#d8576b"
             ],
             [
              0.6666666666666666,
              "#ed7953"
             ],
             [
              0.7777777777777778,
              "#fb9f3a"
             ],
             [
              0.8888888888888888,
              "#fdca26"
             ],
             [
              1,
              "#f0f921"
             ]
            ],
            "type": "heatmapgl"
           }
          ],
          "histogram": [
           {
            "marker": {
             "pattern": {
              "fillmode": "overlay",
              "size": 10,
              "solidity": 0.2
             }
            },
            "type": "histogram"
           }
          ],
          "histogram2d": [
           {
            "colorbar": {
             "outlinewidth": 0,
             "ticks": ""
            },
            "colorscale": [
             [
              0,
              "#0d0887"
             ],
             [
              0.1111111111111111,
              "#46039f"
             ],
             [
              0.2222222222222222,
              "#7201a8"
             ],
             [
              0.3333333333333333,
              "#9c179e"
             ],
             [
              0.4444444444444444,
              "#bd3786"
             ],
             [
              0.5555555555555556,
              "#d8576b"
             ],
             [
              0.6666666666666666,
              "#ed7953"
             ],
             [
              0.7777777777777778,
              "#fb9f3a"
             ],
             [
              0.8888888888888888,
              "#fdca26"
             ],
             [
              1,
              "#f0f921"
             ]
            ],
            "type": "histogram2d"
           }
          ],
          "histogram2dcontour": [
           {
            "colorbar": {
             "outlinewidth": 0,
             "ticks": ""
            },
            "colorscale": [
             [
              0,
              "#0d0887"
             ],
             [
              0.1111111111111111,
              "#46039f"
             ],
             [
              0.2222222222222222,
              "#7201a8"
             ],
             [
              0.3333333333333333,
              "#9c179e"
             ],
             [
              0.4444444444444444,
              "#bd3786"
             ],
             [
              0.5555555555555556,
              "#d8576b"
             ],
             [
              0.6666666666666666,
              "#ed7953"
             ],
             [
              0.7777777777777778,
              "#fb9f3a"
             ],
             [
              0.8888888888888888,
              "#fdca26"
             ],
             [
              1,
              "#f0f921"
             ]
            ],
            "type": "histogram2dcontour"
           }
          ],
          "mesh3d": [
           {
            "colorbar": {
             "outlinewidth": 0,
             "ticks": ""
            },
            "type": "mesh3d"
           }
          ],
          "parcoords": [
           {
            "line": {
             "colorbar": {
              "outlinewidth": 0,
              "ticks": ""
             }
            },
            "type": "parcoords"
           }
          ],
          "pie": [
           {
            "automargin": true,
            "type": "pie"
           }
          ],
          "scatter": [
           {
            "fillpattern": {
             "fillmode": "overlay",
             "size": 10,
             "solidity": 0.2
            },
            "type": "scatter"
           }
          ],
          "scatter3d": [
           {
            "line": {
             "colorbar": {
              "outlinewidth": 0,
              "ticks": ""
             }
            },
            "marker": {
             "colorbar": {
              "outlinewidth": 0,
              "ticks": ""
             }
            },
            "type": "scatter3d"
           }
          ],
          "scattercarpet": [
           {
            "marker": {
             "colorbar": {
              "outlinewidth": 0,
              "ticks": ""
             }
            },
            "type": "scattercarpet"
           }
          ],
          "scattergeo": [
           {
            "marker": {
             "colorbar": {
              "outlinewidth": 0,
              "ticks": ""
             }
            },
            "type": "scattergeo"
           }
          ],
          "scattergl": [
           {
            "marker": {
             "colorbar": {
              "outlinewidth": 0,
              "ticks": ""
             }
            },
            "type": "scattergl"
           }
          ],
          "scattermapbox": [
           {
            "marker": {
             "colorbar": {
              "outlinewidth": 0,
              "ticks": ""
             }
            },
            "type": "scattermapbox"
           }
          ],
          "scatterpolar": [
           {
            "marker": {
             "colorbar": {
              "outlinewidth": 0,
              "ticks": ""
             }
            },
            "type": "scatterpolar"
           }
          ],
          "scatterpolargl": [
           {
            "marker": {
             "colorbar": {
              "outlinewidth": 0,
              "ticks": ""
             }
            },
            "type": "scatterpolargl"
           }
          ],
          "scatterternary": [
           {
            "marker": {
             "colorbar": {
              "outlinewidth": 0,
              "ticks": ""
             }
            },
            "type": "scatterternary"
           }
          ],
          "surface": [
           {
            "colorbar": {
             "outlinewidth": 0,
             "ticks": ""
            },
            "colorscale": [
             [
              0,
              "#0d0887"
             ],
             [
              0.1111111111111111,
              "#46039f"
             ],
             [
              0.2222222222222222,
              "#7201a8"
             ],
             [
              0.3333333333333333,
              "#9c179e"
             ],
             [
              0.4444444444444444,
              "#bd3786"
             ],
             [
              0.5555555555555556,
              "#d8576b"
             ],
             [
              0.6666666666666666,
              "#ed7953"
             ],
             [
              0.7777777777777778,
              "#fb9f3a"
             ],
             [
              0.8888888888888888,
              "#fdca26"
             ],
             [
              1,
              "#f0f921"
             ]
            ],
            "type": "surface"
           }
          ],
          "table": [
           {
            "cells": {
             "fill": {
              "color": "#EBF0F8"
             },
             "line": {
              "color": "white"
             }
            },
            "header": {
             "fill": {
              "color": "#C8D4E3"
             },
             "line": {
              "color": "white"
             }
            },
            "type": "table"
           }
          ]
         },
         "layout": {
          "annotationdefaults": {
           "arrowcolor": "#2a3f5f",
           "arrowhead": 0,
           "arrowwidth": 1
          },
          "autotypenumbers": "strict",
          "coloraxis": {
           "colorbar": {
            "outlinewidth": 0,
            "ticks": ""
           }
          },
          "colorscale": {
           "diverging": [
            [
             0,
             "#8e0152"
            ],
            [
             0.1,
             "#c51b7d"
            ],
            [
             0.2,
             "#de77ae"
            ],
            [
             0.3,
             "#f1b6da"
            ],
            [
             0.4,
             "#fde0ef"
            ],
            [
             0.5,
             "#f7f7f7"
            ],
            [
             0.6,
             "#e6f5d0"
            ],
            [
             0.7,
             "#b8e186"
            ],
            [
             0.8,
             "#7fbc41"
            ],
            [
             0.9,
             "#4d9221"
            ],
            [
             1,
             "#276419"
            ]
           ],
           "sequential": [
            [
             0,
             "#0d0887"
            ],
            [
             0.1111111111111111,
             "#46039f"
            ],
            [
             0.2222222222222222,
             "#7201a8"
            ],
            [
             0.3333333333333333,
             "#9c179e"
            ],
            [
             0.4444444444444444,
             "#bd3786"
            ],
            [
             0.5555555555555556,
             "#d8576b"
            ],
            [
             0.6666666666666666,
             "#ed7953"
            ],
            [
             0.7777777777777778,
             "#fb9f3a"
            ],
            [
             0.8888888888888888,
             "#fdca26"
            ],
            [
             1,
             "#f0f921"
            ]
           ],
           "sequentialminus": [
            [
             0,
             "#0d0887"
            ],
            [
             0.1111111111111111,
             "#46039f"
            ],
            [
             0.2222222222222222,
             "#7201a8"
            ],
            [
             0.3333333333333333,
             "#9c179e"
            ],
            [
             0.4444444444444444,
             "#bd3786"
            ],
            [
             0.5555555555555556,
             "#d8576b"
            ],
            [
             0.6666666666666666,
             "#ed7953"
            ],
            [
             0.7777777777777778,
             "#fb9f3a"
            ],
            [
             0.8888888888888888,
             "#fdca26"
            ],
            [
             1,
             "#f0f921"
            ]
           ]
          },
          "colorway": [
           "#636efa",
           "#EF553B",
           "#00cc96",
           "#ab63fa",
           "#FFA15A",
           "#19d3f3",
           "#FF6692",
           "#B6E880",
           "#FF97FF",
           "#FECB52"
          ],
          "font": {
           "color": "#2a3f5f"
          },
          "geo": {
           "bgcolor": "white",
           "lakecolor": "white",
           "landcolor": "#E5ECF6",
           "showlakes": true,
           "showland": true,
           "subunitcolor": "white"
          },
          "hoverlabel": {
           "align": "left"
          },
          "hovermode": "closest",
          "mapbox": {
           "style": "light"
          },
          "paper_bgcolor": "white",
          "plot_bgcolor": "#E5ECF6",
          "polar": {
           "angularaxis": {
            "gridcolor": "white",
            "linecolor": "white",
            "ticks": ""
           },
           "bgcolor": "#E5ECF6",
           "radialaxis": {
            "gridcolor": "white",
            "linecolor": "white",
            "ticks": ""
           }
          },
          "scene": {
           "xaxis": {
            "backgroundcolor": "#E5ECF6",
            "gridcolor": "white",
            "gridwidth": 2,
            "linecolor": "white",
            "showbackground": true,
            "ticks": "",
            "zerolinecolor": "white"
           },
           "yaxis": {
            "backgroundcolor": "#E5ECF6",
            "gridcolor": "white",
            "gridwidth": 2,
            "linecolor": "white",
            "showbackground": true,
            "ticks": "",
            "zerolinecolor": "white"
           },
           "zaxis": {
            "backgroundcolor": "#E5ECF6",
            "gridcolor": "white",
            "gridwidth": 2,
            "linecolor": "white",
            "showbackground": true,
            "ticks": "",
            "zerolinecolor": "white"
           }
          },
          "shapedefaults": {
           "line": {
            "color": "#2a3f5f"
           }
          },
          "ternary": {
           "aaxis": {
            "gridcolor": "white",
            "linecolor": "white",
            "ticks": ""
           },
           "baxis": {
            "gridcolor": "white",
            "linecolor": "white",
            "ticks": ""
           },
           "bgcolor": "#E5ECF6",
           "caxis": {
            "gridcolor": "white",
            "linecolor": "white",
            "ticks": ""
           }
          },
          "title": {
           "x": 0.05
          },
          "xaxis": {
           "automargin": true,
           "gridcolor": "white",
           "linecolor": "white",
           "ticks": "",
           "title": {
            "standoff": 15
           },
           "zerolinecolor": "white",
           "zerolinewidth": 2
          },
          "yaxis": {
           "automargin": true,
           "gridcolor": "white",
           "linecolor": "white",
           "ticks": "",
           "title": {
            "standoff": 15
           },
           "zerolinecolor": "white",
           "zerolinewidth": 2
          }
         }
        },
        "title": {
         "text": "Metrics Before and After Trial Period"
        },
        "width": 1000,
        "xaxis": {
         "anchor": "y",
         "categoryarray": [
          "Total Customers",
          "Total Sales",
          "Avg. Transaction Value"
         ],
         "categoryorder": "array",
         "domain": [
          0,
          0.31999999999999995
         ],
         "title": {
          "text": "Metric"
         }
        },
        "xaxis2": {
         "anchor": "y2",
         "categoryarray": [
          "Total Customers",
          "Total Sales",
          "Avg. Transaction Value"
         ],
         "categoryorder": "array",
         "domain": [
          0.33999999999999997,
          0.6599999999999999
         ],
         "matches": "x",
         "title": {
          "text": "Metric"
         }
        },
        "xaxis3": {
         "anchor": "y3",
         "categoryarray": [
          "Total Customers",
          "Total Sales",
          "Avg. Transaction Value"
         ],
         "categoryorder": "array",
         "domain": [
          0.6799999999999999,
          0.9999999999999999
         ],
         "matches": "x",
         "title": {
          "text": "Metric"
         }
        },
        "yaxis": {
         "anchor": "x",
         "domain": [
          0,
          1
         ],
         "title": {
          "text": "Value"
         }
        },
        "yaxis2": {
         "anchor": "x2",
         "domain": [
          0,
          1
         ],
         "matches": "y",
         "showticklabels": false
        },
        "yaxis3": {
         "anchor": "x3",
         "domain": [
          0,
          1
         ],
         "matches": "y",
         "showticklabels": false
        }
       }
      }
     },
     "metadata": {},
     "output_type": "display_data"
    }
   ],
   "source": [
    "import plotly.express as px\n",
    "\n",
    "#  Df Trial store names\n",
    "trial_stores = ['Trial_Store_77', 'Trial_Store_86', 'Trial_Store_88']\n",
    "\n",
    "# Df metric names\n",
    "metrics = ['Total_Customers', 'Total_Sales', 'Avg_Transaction_Value']\n",
    "\n",
    "# Df labels for the plots\n",
    "labels = {'Total_Customers': 'Total Customers',\n",
    "          'Total_Sales': 'Total Sales',\n",
    "          'Avg_Transaction_Value': 'Avg. Transaction Value'}\n",
    "\n",
    "# Empty list to store DataFrame for each trial store\n",
    "dfs = []\n",
    "\n",
    "# Df DataFrame for each trial store\n",
    "for trial_store in trial_stores:\n",
    "   \n",
    "    before_data = pd.DataFrame({'Store': trial_store, 'Period': 'Before', 'Metric': labels.values()})\n",
    "    before_data['Value'] = [metrics_before[trial_store][metric] for metric in metrics]\n",
    "    \n",
    "    after_data = pd.DataFrame({'Store': trial_store, 'Period': 'After', 'Metric': labels.values()})\n",
    "    after_data['Value'] = [metrics_after[trial_store][metric] for metric in metrics]\n",
    "    \n",
    "    # Concatenate before and after data\n",
    "    store_data = pd.concat([before_data, after_data], ignore_index=True)\n",
    "    dfs.append(store_data)\n",
    "\n",
    "# Concatenate data for all trial stores\n",
    "before_after_metrics = pd.concat(dfs, ignore_index=True)\n",
    "\n",
    "# Plotly Express for  bar plot\n",
    "fig = px.bar(before_after_metrics, x='Metric', y='Value', color='Period', barmode='group',\n",
    "             facet_col='Store', category_orders={'Metric': list(labels.values())},\n",
    "             labels={'Value': 'Metric Value'}, height=600, width=1000)\n",
    "\n",
    "# Customize layout\n",
    "fig.update_layout(title='Metrics Before and After Trial Period',\n",
    "                  xaxis_title='Metric', yaxis_title='Value', legend_title='Period')\n",
    "\n",
    "# Show \n",
    "fig.show()\n"
   ]
  }
 ],
 "metadata": {
  "kernelspec": {
   "display_name": "base",
   "language": "python",
   "name": "python3"
  },
  "language_info": {
   "codemirror_mode": {
    "name": "ipython",
    "version": 3
   },
   "file_extension": ".py",
   "mimetype": "text/x-python",
   "name": "python",
   "nbconvert_exporter": "python",
   "pygments_lexer": "ipython3",
   "version": "3.11.5"
  }
 },
 "nbformat": 4,
 "nbformat_minor": 2
}
